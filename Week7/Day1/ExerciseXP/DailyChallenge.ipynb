{
 "cells": [
  {
   "cell_type": "code",
   "execution_count": 47,
   "id": "773c18ea",
   "metadata": {},
   "outputs": [],
   "source": [
    "import pandas as pd\n",
    "import numpy as np"
   ]
  },
  {
   "cell_type": "code",
   "execution_count": 48,
   "id": "2cc52a1f",
   "metadata": {},
   "outputs": [],
   "source": [
    "table=np.random.randint(1,100, size=(5,10))"
   ]
  },
  {
   "cell_type": "code",
   "execution_count": 49,
   "id": "bd8a5401",
   "metadata": {},
   "outputs": [
    {
     "data": {
      "text/plain": [
       "array([[ 8,  7, 38, 48,  4, 30, 27, 31, 45, 51],\n",
       "       [46, 58, 78, 51, 10,  1, 55, 85, 79, 73],\n",
       "       [84, 78, 77, 70, 96, 86, 10, 88, 70, 95],\n",
       "       [46, 65, 33, 60,  9, 99, 99, 47, 68, 27],\n",
       "       [35, 14, 55, 34, 10, 75, 58, 11, 76, 32]])"
      ]
     },
     "execution_count": 49,
     "metadata": {},
     "output_type": "execute_result"
    }
   ],
   "source": [
    "table"
   ]
  },
  {
   "cell_type": "code",
   "execution_count": 51,
   "id": "b03d9c09",
   "metadata": {},
   "outputs": [],
   "source": [
    "row3=table[2]"
   ]
  },
  {
   "cell_type": "code",
   "execution_count": 52,
   "id": "8a1624af",
   "metadata": {},
   "outputs": [
    {
     "data": {
      "text/plain": [
       "array([84, 78, 77, 70, 96, 86, 10, 88, 70, 95])"
      ]
     },
     "execution_count": 52,
     "metadata": {},
     "output_type": "execute_result"
    }
   ],
   "source": [
    "row3"
   ]
  },
  {
   "cell_type": "code",
   "execution_count": 53,
   "id": "7d792c42",
   "metadata": {},
   "outputs": [],
   "source": [
    "col3=table[:,2]"
   ]
  },
  {
   "cell_type": "code",
   "execution_count": 54,
   "id": "a4db48ad",
   "metadata": {
    "scrolled": true
   },
   "outputs": [
    {
     "data": {
      "text/plain": [
       "array([38, 78, 77, 33, 55])"
      ]
     },
     "execution_count": 54,
     "metadata": {},
     "output_type": "execute_result"
    }
   ],
   "source": [
    "col3"
   ]
  },
  {
   "cell_type": "code",
   "execution_count": 55,
   "id": "27abae28",
   "metadata": {},
   "outputs": [],
   "source": [
    "org = pd.DataFrame(table,\n",
    "                columns=['A','B','C','D','E','F','G','H', 'I', 'J'],\n",
    "                index = ['first', 'second', 'third', 'fourth', 'fifth'])"
   ]
  },
  {
   "cell_type": "code",
   "execution_count": 56,
   "id": "d7a1d0ba",
   "metadata": {},
   "outputs": [
    {
     "data": {
      "text/html": [
       "<div>\n",
       "<style scoped>\n",
       "    .dataframe tbody tr th:only-of-type {\n",
       "        vertical-align: middle;\n",
       "    }\n",
       "\n",
       "    .dataframe tbody tr th {\n",
       "        vertical-align: top;\n",
       "    }\n",
       "\n",
       "    .dataframe thead th {\n",
       "        text-align: right;\n",
       "    }\n",
       "</style>\n",
       "<table border=\"1\" class=\"dataframe\">\n",
       "  <thead>\n",
       "    <tr style=\"text-align: right;\">\n",
       "      <th></th>\n",
       "      <th>A</th>\n",
       "      <th>B</th>\n",
       "      <th>C</th>\n",
       "      <th>D</th>\n",
       "      <th>E</th>\n",
       "      <th>F</th>\n",
       "      <th>G</th>\n",
       "      <th>H</th>\n",
       "      <th>I</th>\n",
       "      <th>J</th>\n",
       "    </tr>\n",
       "  </thead>\n",
       "  <tbody>\n",
       "    <tr>\n",
       "      <th>first</th>\n",
       "      <td>8</td>\n",
       "      <td>7</td>\n",
       "      <td>38</td>\n",
       "      <td>48</td>\n",
       "      <td>4</td>\n",
       "      <td>30</td>\n",
       "      <td>27</td>\n",
       "      <td>31</td>\n",
       "      <td>45</td>\n",
       "      <td>51</td>\n",
       "    </tr>\n",
       "    <tr>\n",
       "      <th>second</th>\n",
       "      <td>46</td>\n",
       "      <td>58</td>\n",
       "      <td>78</td>\n",
       "      <td>51</td>\n",
       "      <td>10</td>\n",
       "      <td>1</td>\n",
       "      <td>55</td>\n",
       "      <td>85</td>\n",
       "      <td>79</td>\n",
       "      <td>73</td>\n",
       "    </tr>\n",
       "    <tr>\n",
       "      <th>third</th>\n",
       "      <td>84</td>\n",
       "      <td>78</td>\n",
       "      <td>77</td>\n",
       "      <td>70</td>\n",
       "      <td>96</td>\n",
       "      <td>86</td>\n",
       "      <td>10</td>\n",
       "      <td>88</td>\n",
       "      <td>70</td>\n",
       "      <td>95</td>\n",
       "    </tr>\n",
       "    <tr>\n",
       "      <th>fourth</th>\n",
       "      <td>46</td>\n",
       "      <td>65</td>\n",
       "      <td>33</td>\n",
       "      <td>60</td>\n",
       "      <td>9</td>\n",
       "      <td>99</td>\n",
       "      <td>99</td>\n",
       "      <td>47</td>\n",
       "      <td>68</td>\n",
       "      <td>27</td>\n",
       "    </tr>\n",
       "    <tr>\n",
       "      <th>fifth</th>\n",
       "      <td>35</td>\n",
       "      <td>14</td>\n",
       "      <td>55</td>\n",
       "      <td>34</td>\n",
       "      <td>10</td>\n",
       "      <td>75</td>\n",
       "      <td>58</td>\n",
       "      <td>11</td>\n",
       "      <td>76</td>\n",
       "      <td>32</td>\n",
       "    </tr>\n",
       "  </tbody>\n",
       "</table>\n",
       "</div>"
      ],
      "text/plain": [
       "         A   B   C   D   E   F   G   H   I   J\n",
       "first    8   7  38  48   4  30  27  31  45  51\n",
       "second  46  58  78  51  10   1  55  85  79  73\n",
       "third   84  78  77  70  96  86  10  88  70  95\n",
       "fourth  46  65  33  60   9  99  99  47  68  27\n",
       "fifth   35  14  55  34  10  75  58  11  76  32"
      ]
     },
     "execution_count": 56,
     "metadata": {},
     "output_type": "execute_result"
    }
   ],
   "source": [
    "org"
   ]
  },
  {
   "cell_type": "code",
   "execution_count": 57,
   "id": "33eb7221",
   "metadata": {},
   "outputs": [
    {
     "data": {
      "text/plain": [
       "A    35\n",
       "B    14\n",
       "C    55\n",
       "D    34\n",
       "E    10\n",
       "F    75\n",
       "G    58\n",
       "H    11\n",
       "I    76\n",
       "J    32\n",
       "Name: fifth, dtype: int64"
      ]
     },
     "execution_count": 57,
     "metadata": {},
     "output_type": "execute_result"
    }
   ],
   "source": [
    "org.loc['fifth']"
   ]
  },
  {
   "cell_type": "code",
   "execution_count": 58,
   "id": "afc2b183",
   "metadata": {},
   "outputs": [],
   "source": [
    "org.loc['fifth'] = [7,7,7,7,7,7,7,7,7,7]"
   ]
  },
  {
   "cell_type": "code",
   "execution_count": 59,
   "id": "b136646b",
   "metadata": {},
   "outputs": [
    {
     "data": {
      "text/html": [
       "<div>\n",
       "<style scoped>\n",
       "    .dataframe tbody tr th:only-of-type {\n",
       "        vertical-align: middle;\n",
       "    }\n",
       "\n",
       "    .dataframe tbody tr th {\n",
       "        vertical-align: top;\n",
       "    }\n",
       "\n",
       "    .dataframe thead th {\n",
       "        text-align: right;\n",
       "    }\n",
       "</style>\n",
       "<table border=\"1\" class=\"dataframe\">\n",
       "  <thead>\n",
       "    <tr style=\"text-align: right;\">\n",
       "      <th></th>\n",
       "      <th>A</th>\n",
       "      <th>B</th>\n",
       "      <th>C</th>\n",
       "      <th>D</th>\n",
       "      <th>E</th>\n",
       "      <th>F</th>\n",
       "      <th>G</th>\n",
       "      <th>H</th>\n",
       "      <th>I</th>\n",
       "      <th>J</th>\n",
       "    </tr>\n",
       "  </thead>\n",
       "  <tbody>\n",
       "    <tr>\n",
       "      <th>first</th>\n",
       "      <td>8</td>\n",
       "      <td>7</td>\n",
       "      <td>38</td>\n",
       "      <td>48</td>\n",
       "      <td>4</td>\n",
       "      <td>30</td>\n",
       "      <td>27</td>\n",
       "      <td>31</td>\n",
       "      <td>45</td>\n",
       "      <td>51</td>\n",
       "    </tr>\n",
       "    <tr>\n",
       "      <th>second</th>\n",
       "      <td>46</td>\n",
       "      <td>58</td>\n",
       "      <td>78</td>\n",
       "      <td>51</td>\n",
       "      <td>10</td>\n",
       "      <td>1</td>\n",
       "      <td>55</td>\n",
       "      <td>85</td>\n",
       "      <td>79</td>\n",
       "      <td>73</td>\n",
       "    </tr>\n",
       "    <tr>\n",
       "      <th>third</th>\n",
       "      <td>84</td>\n",
       "      <td>78</td>\n",
       "      <td>77</td>\n",
       "      <td>70</td>\n",
       "      <td>96</td>\n",
       "      <td>86</td>\n",
       "      <td>10</td>\n",
       "      <td>88</td>\n",
       "      <td>70</td>\n",
       "      <td>95</td>\n",
       "    </tr>\n",
       "    <tr>\n",
       "      <th>fourth</th>\n",
       "      <td>46</td>\n",
       "      <td>65</td>\n",
       "      <td>33</td>\n",
       "      <td>60</td>\n",
       "      <td>9</td>\n",
       "      <td>99</td>\n",
       "      <td>99</td>\n",
       "      <td>47</td>\n",
       "      <td>68</td>\n",
       "      <td>27</td>\n",
       "    </tr>\n",
       "    <tr>\n",
       "      <th>fifth</th>\n",
       "      <td>7</td>\n",
       "      <td>7</td>\n",
       "      <td>7</td>\n",
       "      <td>7</td>\n",
       "      <td>7</td>\n",
       "      <td>7</td>\n",
       "      <td>7</td>\n",
       "      <td>7</td>\n",
       "      <td>7</td>\n",
       "      <td>7</td>\n",
       "    </tr>\n",
       "  </tbody>\n",
       "</table>\n",
       "</div>"
      ],
      "text/plain": [
       "         A   B   C   D   E   F   G   H   I   J\n",
       "first    8   7  38  48   4  30  27  31  45  51\n",
       "second  46  58  78  51  10   1  55  85  79  73\n",
       "third   84  78  77  70  96  86  10  88  70  95\n",
       "fourth  46  65  33  60   9  99  99  47  68  27\n",
       "fifth    7   7   7   7   7   7   7   7   7   7"
      ]
     },
     "execution_count": 59,
     "metadata": {},
     "output_type": "execute_result"
    }
   ],
   "source": [
    "org"
   ]
  },
  {
   "cell_type": "code",
   "execution_count": 60,
   "id": "838cfa86",
   "metadata": {},
   "outputs": [
    {
     "data": {
      "text/plain": [
       "first     51\n",
       "second    73\n",
       "third     95\n",
       "fourth    27\n",
       "fifth      7\n",
       "Name: J, dtype: int64"
      ]
     },
     "execution_count": 60,
     "metadata": {},
     "output_type": "execute_result"
    }
   ],
   "source": [
    "org.loc[:,'J']"
   ]
  },
  {
   "cell_type": "markdown",
   "id": "d9b7a043",
   "metadata": {},
   "source": [
    "cannot find the solution to add by index the element of first row andc first column and substitute on first row on J and so on..."
   ]
  }
 ],
 "metadata": {
  "kernelspec": {
   "display_name": "Python 3 (ipykernel)",
   "language": "python",
   "name": "python3"
  },
  "language_info": {
   "codemirror_mode": {
    "name": "ipython",
    "version": 3
   },
   "file_extension": ".py",
   "mimetype": "text/x-python",
   "name": "python",
   "nbconvert_exporter": "python",
   "pygments_lexer": "ipython3",
   "version": "3.9.13"
  }
 },
 "nbformat": 4,
 "nbformat_minor": 5
}
