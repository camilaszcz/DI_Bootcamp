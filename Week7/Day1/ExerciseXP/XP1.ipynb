{
 "cells": [
  {
   "cell_type": "code",
   "execution_count": 48,
   "id": "6868d9a2",
   "metadata": {},
   "outputs": [],
   "source": [
    "import pandas as pd\n",
    "import numpy as np\n",
    "from dateutil.parser import parse"
   ]
  },
  {
   "cell_type": "code",
   "execution_count": 49,
   "id": "249f40f2",
   "metadata": {},
   "outputs": [],
   "source": [
    "a=np.arange(6,100,4)"
   ]
  },
  {
   "cell_type": "code",
   "execution_count": 50,
   "id": "16665d29",
   "metadata": {},
   "outputs": [
    {
     "data": {
      "text/plain": [
       "array([ 6, 10, 14, 18, 22, 26, 30, 34, 38, 42, 46, 50, 54, 58, 62, 66, 70,\n",
       "       74, 78, 82, 86, 90, 94, 98])"
      ]
     },
     "execution_count": 50,
     "metadata": {},
     "output_type": "execute_result"
    }
   ],
   "source": [
    "a"
   ]
  },
  {
   "cell_type": "code",
   "execution_count": 51,
   "id": "a875f13f",
   "metadata": {},
   "outputs": [
    {
     "name": "stdout",
     "output_type": "stream",
     "text": [
      "[ 1.  2.  3. nan  5.  6.  7. nan]\n"
     ]
    }
   ],
   "source": [
    "a = np.array([1,2,3,np.nan,5,6,7,np.nan])\n",
    "print(a)"
   ]
  },
  {
   "cell_type": "code",
   "execution_count": 52,
   "id": "81d2b099",
   "metadata": {},
   "outputs": [],
   "source": [
    "a=a[~np.isnan(a)]"
   ]
  },
  {
   "cell_type": "code",
   "execution_count": 53,
   "id": "0be44481",
   "metadata": {},
   "outputs": [
    {
     "data": {
      "text/plain": [
       "array([1., 2., 3., 5., 6., 7.])"
      ]
     },
     "execution_count": 53,
     "metadata": {},
     "output_type": "execute_result"
    }
   ],
   "source": [
    "a"
   ]
  },
  {
   "cell_type": "markdown",
   "id": "86f281c8",
   "metadata": {},
   "source": [
    "create a random numpy array that has a shape of (5, 6) filled with integers between 1 and 100. \n",
    "Then compute the maximum int for each row in the array"
   ]
  },
  {
   "cell_type": "code",
   "execution_count": 54,
   "id": "566b4083",
   "metadata": {},
   "outputs": [],
   "source": [
    "a=np.random.randint(1, 100, size=(5,6), dtype=int)"
   ]
  },
  {
   "cell_type": "code",
   "execution_count": 55,
   "id": "9af7cbbc",
   "metadata": {},
   "outputs": [
    {
     "data": {
      "text/plain": [
       "array([[85, 88, 22, 80, 75, 38],\n",
       "       [66, 11, 70, 97, 25, 28],\n",
       "       [ 7, 71, 15, 38, 92, 11],\n",
       "       [14, 54, 57, 28, 54, 37],\n",
       "       [ 3, 20, 79, 29, 16, 22]])"
      ]
     },
     "execution_count": 55,
     "metadata": {},
     "output_type": "execute_result"
    }
   ],
   "source": [
    "a"
   ]
  },
  {
   "cell_type": "code",
   "execution_count": 56,
   "id": "be5f2532",
   "metadata": {},
   "outputs": [
    {
     "data": {
      "text/plain": [
       "array([88, 97, 92, 57, 79])"
      ]
     },
     "execution_count": 56,
     "metadata": {},
     "output_type": "execute_result"
    }
   ],
   "source": [
    "np.amax(a, axis=1)"
   ]
  },
  {
   "cell_type": "code",
   "execution_count": 57,
   "id": "c6eda9c2",
   "metadata": {},
   "outputs": [],
   "source": [
    "series = pd.Series(np.take(list('abcdefghijklmnop'), np.random.randint(16, size=500)))"
   ]
  },
  {
   "cell_type": "code",
   "execution_count": 58,
   "id": "e1eeac3f",
   "metadata": {},
   "outputs": [
    {
     "data": {
      "text/plain": [
       "0      d\n",
       "1      a\n",
       "2      f\n",
       "3      d\n",
       "4      p\n",
       "      ..\n",
       "495    g\n",
       "496    n\n",
       "497    p\n",
       "498    i\n",
       "499    b\n",
       "Length: 500, dtype: object"
      ]
     },
     "execution_count": 58,
     "metadata": {},
     "output_type": "execute_result"
    }
   ],
   "source": [
    "series"
   ]
  },
  {
   "cell_type": "code",
   "execution_count": 59,
   "id": "a8f09481",
   "metadata": {},
   "outputs": [
    {
     "data": {
      "text/plain": [
       "o    39\n",
       "d    37\n",
       "f    36\n",
       "c    35\n",
       "g    34\n",
       "m    34\n",
       "k    34\n",
       "l    33\n",
       "b    33\n",
       "p    31\n",
       "e    31\n",
       "n    29\n",
       "a    25\n",
       "i    25\n",
       "j    22\n",
       "h    22\n",
       "dtype: int64"
      ]
     },
     "execution_count": 59,
     "metadata": {},
     "output_type": "execute_result"
    }
   ],
   "source": [
    "series.value_counts()"
   ]
  },
  {
   "cell_type": "code",
   "execution_count": 60,
   "id": "ebefe296",
   "metadata": {},
   "outputs": [],
   "source": [
    "sr=pd.DataFrame(series)"
   ]
  },
  {
   "cell_type": "code",
   "execution_count": 61,
   "id": "2ec9c775",
   "metadata": {},
   "outputs": [],
   "source": [
    "sr1=sr.apply(pd.value_counts).fillna(0)"
   ]
  },
  {
   "cell_type": "code",
   "execution_count": 62,
   "id": "f5c530e3",
   "metadata": {},
   "outputs": [
    {
     "data": {
      "text/html": [
       "<div>\n",
       "<style scoped>\n",
       "    .dataframe tbody tr th:only-of-type {\n",
       "        vertical-align: middle;\n",
       "    }\n",
       "\n",
       "    .dataframe tbody tr th {\n",
       "        vertical-align: top;\n",
       "    }\n",
       "\n",
       "    .dataframe thead th {\n",
       "        text-align: right;\n",
       "    }\n",
       "</style>\n",
       "<table border=\"1\" class=\"dataframe\">\n",
       "  <thead>\n",
       "    <tr style=\"text-align: right;\">\n",
       "      <th></th>\n",
       "      <th>0</th>\n",
       "    </tr>\n",
       "  </thead>\n",
       "  <tbody>\n",
       "    <tr>\n",
       "      <th>o</th>\n",
       "      <td>39</td>\n",
       "    </tr>\n",
       "    <tr>\n",
       "      <th>d</th>\n",
       "      <td>37</td>\n",
       "    </tr>\n",
       "    <tr>\n",
       "      <th>f</th>\n",
       "      <td>36</td>\n",
       "    </tr>\n",
       "    <tr>\n",
       "      <th>c</th>\n",
       "      <td>35</td>\n",
       "    </tr>\n",
       "    <tr>\n",
       "      <th>g</th>\n",
       "      <td>34</td>\n",
       "    </tr>\n",
       "    <tr>\n",
       "      <th>m</th>\n",
       "      <td>34</td>\n",
       "    </tr>\n",
       "    <tr>\n",
       "      <th>k</th>\n",
       "      <td>34</td>\n",
       "    </tr>\n",
       "    <tr>\n",
       "      <th>l</th>\n",
       "      <td>33</td>\n",
       "    </tr>\n",
       "    <tr>\n",
       "      <th>b</th>\n",
       "      <td>33</td>\n",
       "    </tr>\n",
       "    <tr>\n",
       "      <th>p</th>\n",
       "      <td>31</td>\n",
       "    </tr>\n",
       "    <tr>\n",
       "      <th>e</th>\n",
       "      <td>31</td>\n",
       "    </tr>\n",
       "    <tr>\n",
       "      <th>n</th>\n",
       "      <td>29</td>\n",
       "    </tr>\n",
       "    <tr>\n",
       "      <th>a</th>\n",
       "      <td>25</td>\n",
       "    </tr>\n",
       "    <tr>\n",
       "      <th>i</th>\n",
       "      <td>25</td>\n",
       "    </tr>\n",
       "    <tr>\n",
       "      <th>j</th>\n",
       "      <td>22</td>\n",
       "    </tr>\n",
       "    <tr>\n",
       "      <th>h</th>\n",
       "      <td>22</td>\n",
       "    </tr>\n",
       "  </tbody>\n",
       "</table>\n",
       "</div>"
      ],
      "text/plain": [
       "    0\n",
       "o  39\n",
       "d  37\n",
       "f  36\n",
       "c  35\n",
       "g  34\n",
       "m  34\n",
       "k  34\n",
       "l  33\n",
       "b  33\n",
       "p  31\n",
       "e  31\n",
       "n  29\n",
       "a  25\n",
       "i  25\n",
       "j  22\n",
       "h  22"
      ]
     },
     "execution_count": 62,
     "metadata": {},
     "output_type": "execute_result"
    }
   ],
   "source": [
    "sr1"
   ]
  },
  {
   "cell_type": "code",
   "execution_count": 64,
   "id": "2e21a298",
   "metadata": {},
   "outputs": [],
   "source": [
    "date_series = pd.Series(['02 Jan 2015', '10-02-2016', '20180307', '2014/05/06', '2016-04-12', '2019-04-06T11:20'])"
   ]
  },
  {
   "cell_type": "code",
   "execution_count": 65,
   "id": "50931ba6",
   "metadata": {},
   "outputs": [
    {
     "data": {
      "text/plain": [
       "0         02 Jan 2015\n",
       "1          10-02-2016\n",
       "2            20180307\n",
       "3          2014/05/06\n",
       "4          2016-04-12\n",
       "5    2019-04-06T11:20\n",
       "dtype: object"
      ]
     },
     "execution_count": 65,
     "metadata": {},
     "output_type": "execute_result"
    }
   ],
   "source": [
    "date_series"
   ]
  },
  {
   "cell_type": "code",
   "execution_count": 66,
   "id": "35b98182",
   "metadata": {},
   "outputs": [],
   "source": [
    "date_series = date_series.map(lambda x:parse(x))"
   ]
  },
  {
   "cell_type": "code",
   "execution_count": 73,
   "id": "97346f68",
   "metadata": {},
   "outputs": [
    {
     "data": {
      "text/plain": [
       "[2, 2, 7, 6, 12, 6]"
      ]
     },
     "execution_count": 73,
     "metadata": {},
     "output_type": "execute_result"
    }
   ],
   "source": [
    "date_series.dt.day.tolist()"
   ]
  },
  {
   "cell_type": "code",
   "execution_count": 74,
   "id": "fff0f13e",
   "metadata": {},
   "outputs": [
    {
     "data": {
      "text/plain": [
       "[2, 276, 66, 126, 103, 96]"
      ]
     },
     "execution_count": 74,
     "metadata": {},
     "output_type": "execute_result"
    }
   ],
   "source": [
    "date_series.dt.dayofyear.tolist()"
   ]
  },
  {
   "cell_type": "code",
   "execution_count": 83,
   "id": "4a7ec8fe",
   "metadata": {},
   "outputs": [
    {
     "data": {
      "text/plain": [
       "0     1\n",
       "1    39\n",
       "2    10\n",
       "3    19\n",
       "4    15\n",
       "5    14\n",
       "Name: week, dtype: UInt32"
      ]
     },
     "execution_count": 83,
     "metadata": {},
     "output_type": "execute_result"
    }
   ],
   "source": [
    "date_series.dt.isocalendar().week"
   ]
  },
  {
   "cell_type": "code",
   "execution_count": 89,
   "id": "6196ab83",
   "metadata": {},
   "outputs": [
    {
     "data": {
      "text/plain": [
       "[4, 6, 2, 1, 1, 5]"
      ]
     },
     "execution_count": 89,
     "metadata": {},
     "output_type": "execute_result"
    }
   ],
   "source": [
    "date_series.dt.weekday.tolist()"
   ]
  },
  {
   "cell_type": "code",
   "execution_count": null,
   "id": "f4730d2c",
   "metadata": {},
   "outputs": [],
   "source": []
  }
 ],
 "metadata": {
  "kernelspec": {
   "display_name": "Python 3 (ipykernel)",
   "language": "python",
   "name": "python3"
  },
  "language_info": {
   "codemirror_mode": {
    "name": "ipython",
    "version": 3
   },
   "file_extension": ".py",
   "mimetype": "text/x-python",
   "name": "python",
   "nbconvert_exporter": "python",
   "pygments_lexer": "ipython3",
   "version": "3.9.13"
  }
 },
 "nbformat": 4,
 "nbformat_minor": 5
}
