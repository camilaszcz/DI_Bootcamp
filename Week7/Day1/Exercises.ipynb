{
 "cells": [
  {
   "cell_type": "code",
   "execution_count": 1,
   "id": "68261996",
   "metadata": {},
   "outputs": [],
   "source": [
    "import numpy as np"
   ]
  },
  {
   "cell_type": "code",
   "execution_count": 4,
   "id": "8df7e59e",
   "metadata": {},
   "outputs": [
    {
     "data": {
      "text/plain": [
       "'1.23.4'"
      ]
     },
     "execution_count": 4,
     "metadata": {},
     "output_type": "execute_result"
    }
   ],
   "source": [
    "np.version.version"
   ]
  },
  {
   "cell_type": "code",
   "execution_count": 5,
   "id": "b7cd5073",
   "metadata": {},
   "outputs": [
    {
     "data": {
      "text/plain": [
       "array([0., 0., 0., 0., 0., 0., 0., 0., 0., 0.])"
      ]
     },
     "execution_count": 5,
     "metadata": {},
     "output_type": "execute_result"
    }
   ],
   "source": [
    "np.zeros(10)"
   ]
  },
  {
   "cell_type": "code",
   "execution_count": 6,
   "id": "44d5e383",
   "metadata": {},
   "outputs": [],
   "source": [
    "x = np.array([100, 20, 34])"
   ]
  },
  {
   "cell_type": "code",
   "execution_count": 11,
   "id": "d1cb839e",
   "metadata": {},
   "outputs": [
    {
     "name": "stdout",
     "output_type": "stream",
     "text": [
      "Size of the array:  3\n"
     ]
    }
   ],
   "source": [
    "print(\"Size of the array: \",\n",
    "      x.size)"
   ]
  },
  {
   "cell_type": "code",
   "execution_count": 12,
   "id": "cd5f71ff",
   "metadata": {},
   "outputs": [
    {
     "name": "stdout",
     "output_type": "stream",
     "text": [
      "Memory size of one array element in bytes:  8\n"
     ]
    }
   ],
   "source": [
    "print(\"Memory size of one array element in bytes: \",\n",
    "      x.itemsize)"
   ]
  },
  {
   "cell_type": "code",
   "execution_count": 13,
   "id": "b4503a19",
   "metadata": {},
   "outputs": [
    {
     "name": "stdout",
     "output_type": "stream",
     "text": [
      "Memory size of numpy array in bytes: 24\n"
     ]
    }
   ],
   "source": [
    "print(\"Memory size of numpy array in bytes:\",\n",
    "      x.size * x.itemsize)"
   ]
  },
  {
   "cell_type": "code",
   "execution_count": 14,
   "id": "8756ebe3",
   "metadata": {},
   "outputs": [
    {
     "name": "stdout",
     "output_type": "stream",
     "text": [
      "add(x1, x2, /, out=None, *, where=True, casting='same_kind', order='K', dtype=None, subok=True[, signature, extobj])\n",
      "\n",
      "Add arguments element-wise.\n",
      "\n",
      "Parameters\n",
      "----------\n",
      "x1, x2 : array_like\n",
      "    The arrays to be added.\n",
      "    If ``x1.shape != x2.shape``, they must be broadcastable to a common\n",
      "    shape (which becomes the shape of the output).\n",
      "out : ndarray, None, or tuple of ndarray and None, optional\n",
      "    A location into which the result is stored. If provided, it must have\n",
      "    a shape that the inputs broadcast to. If not provided or None,\n",
      "    a freshly-allocated array is returned. A tuple (possible only as a\n",
      "    keyword argument) must have length equal to the number of outputs.\n",
      "where : array_like, optional\n",
      "    This condition is broadcast over the input. At locations where the\n",
      "    condition is True, the `out` array will be set to the ufunc result.\n",
      "    Elsewhere, the `out` array will retain its original value.\n",
      "    Note that if an uninitialized `out` array is created via the default\n",
      "    ``out=None``, locations within it where the condition is False will\n",
      "    remain uninitialized.\n",
      "**kwargs\n",
      "    For other keyword-only arguments, see the\n",
      "    :ref:`ufunc docs <ufuncs.kwargs>`.\n",
      "\n",
      "Returns\n",
      "-------\n",
      "add : ndarray or scalar\n",
      "    The sum of `x1` and `x2`, element-wise.\n",
      "    This is a scalar if both `x1` and `x2` are scalars.\n",
      "\n",
      "Notes\n",
      "-----\n",
      "Equivalent to `x1` + `x2` in terms of array broadcasting.\n",
      "\n",
      "Examples\n",
      "--------\n",
      ">>> np.add(1.0, 4.0)\n",
      "5.0\n",
      ">>> x1 = np.arange(9.0).reshape((3, 3))\n",
      ">>> x2 = np.arange(3.0)\n",
      ">>> np.add(x1, x2)\n",
      "array([[  0.,   2.,   4.],\n",
      "       [  3.,   5.,   7.],\n",
      "       [  6.,   8.,  10.]])\n",
      "\n",
      "The ``+`` operator can be used as a shorthand for ``np.add`` on ndarrays.\n",
      "\n",
      ">>> x1 = np.arange(9.0).reshape((3, 3))\n",
      ">>> x2 = np.arange(3.0)\n",
      ">>> x1 + x2\n",
      "array([[ 0.,  2.,  4.],\n",
      "       [ 3.,  5.,  7.],\n",
      "       [ 6.,  8., 10.]])\n",
      "None\n"
     ]
    }
   ],
   "source": [
    "print(np.info(np.add))"
   ]
  },
  {
   "cell_type": "code",
   "execution_count": 15,
   "id": "70169311",
   "metadata": {},
   "outputs": [
    {
     "data": {
      "text/plain": [
       "array([False, False, False, False,  True, False, False, False, False,\n",
       "       False])"
      ]
     },
     "execution_count": 15,
     "metadata": {},
     "output_type": "execute_result"
    }
   ],
   "source": [
    "np.arange(10) == 4"
   ]
  },
  {
   "cell_type": "code",
   "execution_count": 19,
   "id": "d6b5a1b7",
   "metadata": {},
   "outputs": [],
   "source": [
    "b=np.array([int(x==4) for x in range(10)])"
   ]
  },
  {
   "cell_type": "code",
   "execution_count": 20,
   "id": "548dfd0c",
   "metadata": {},
   "outputs": [
    {
     "name": "stdout",
     "output_type": "stream",
     "text": [
      "[0 0 0 0 1 0 0 0 0 0]\n"
     ]
    }
   ],
   "source": [
    "print(b)"
   ]
  },
  {
   "cell_type": "code",
   "execution_count": 22,
   "id": "6dfc4740",
   "metadata": {},
   "outputs": [
    {
     "data": {
      "text/plain": [
       "array([10, 11, 12, 13, 14, 15, 16, 17, 18, 19, 20, 21, 22, 23, 24, 25, 26,\n",
       "       27, 28, 29, 30, 31, 32, 33, 34, 35, 36, 37, 38, 39, 40, 41, 42, 43,\n",
       "       44, 45, 46, 47, 48, 49])"
      ]
     },
     "execution_count": 22,
     "metadata": {},
     "output_type": "execute_result"
    }
   ],
   "source": [
    "np.arange(40)+10"
   ]
  },
  {
   "cell_type": "code",
   "execution_count": 23,
   "id": "a2bead5b",
   "metadata": {},
   "outputs": [],
   "source": [
    "x=np.arange(1,20)"
   ]
  },
  {
   "cell_type": "code",
   "execution_count": 24,
   "id": "7361a385",
   "metadata": {},
   "outputs": [
    {
     "name": "stdout",
     "output_type": "stream",
     "text": [
      "[ 1  2  3  4  5  6  7  8  9 10 11 12 13 14 15 16 17 18 19]\n"
     ]
    }
   ],
   "source": [
    "print (x)"
   ]
  },
  {
   "cell_type": "code",
   "execution_count": 25,
   "id": "ddce15af",
   "metadata": {},
   "outputs": [],
   "source": [
    "x=x[::-1]"
   ]
  },
  {
   "cell_type": "code",
   "execution_count": 26,
   "id": "40cbf4db",
   "metadata": {},
   "outputs": [
    {
     "name": "stdout",
     "output_type": "stream",
     "text": [
      "[19 18 17 16 15 14 13 12 11 10  9  8  7  6  5  4  3  2  1]\n"
     ]
    }
   ],
   "source": [
    "print(x)"
   ]
  },
  {
   "cell_type": "code",
   "execution_count": 27,
   "id": "a4f63b72",
   "metadata": {},
   "outputs": [
    {
     "data": {
      "text/plain": [
       "array([[0, 1, 2],\n",
       "       [3, 4, 5],\n",
       "       [6, 7, 8]])"
      ]
     },
     "execution_count": 27,
     "metadata": {},
     "output_type": "execute_result"
    }
   ],
   "source": [
    "np.arange(0,9).reshape((3,3))"
   ]
  },
  {
   "cell_type": "code",
   "execution_count": 28,
   "id": "e058a695",
   "metadata": {},
   "outputs": [],
   "source": [
    "array = np.array([4,6,0,0,0,4,89])"
   ]
  },
  {
   "cell_type": "code",
   "execution_count": 29,
   "id": "9b87e68e",
   "metadata": {},
   "outputs": [
    {
     "name": "stdout",
     "output_type": "stream",
     "text": [
      "[ 4  6  0  0  0  4 89]\n"
     ]
    }
   ],
   "source": [
    "print(array)"
   ]
  },
  {
   "cell_type": "code",
   "execution_count": 30,
   "id": "ee3f6814",
   "metadata": {},
   "outputs": [
    {
     "name": "stdout",
     "output_type": "stream",
     "text": [
      "True\n"
     ]
    }
   ],
   "source": [
    "print(np.any(array))"
   ]
  },
  {
   "cell_type": "code",
   "execution_count": 31,
   "id": "6417be30",
   "metadata": {},
   "outputs": [],
   "source": [
    "array_2D=np.identity(3)"
   ]
  },
  {
   "cell_type": "code",
   "execution_count": 32,
   "id": "06c073fb",
   "metadata": {},
   "outputs": [
    {
     "name": "stdout",
     "output_type": "stream",
     "text": [
      "3x3 matrix:\n"
     ]
    }
   ],
   "source": [
    "print('3x3 matrix:')"
   ]
  },
  {
   "cell_type": "code",
   "execution_count": 33,
   "id": "055f0027",
   "metadata": {},
   "outputs": [
    {
     "name": "stdout",
     "output_type": "stream",
     "text": [
      "[[1. 0. 0.]\n",
      " [0. 1. 0.]\n",
      " [0. 0. 1.]]\n"
     ]
    }
   ],
   "source": [
    "print(array_2D)"
   ]
  },
  {
   "cell_type": "code",
   "execution_count": 36,
   "id": "9c19e865",
   "metadata": {},
   "outputs": [],
   "source": [
    "x = np.random.random((10,10))"
   ]
  },
  {
   "cell_type": "code",
   "execution_count": 37,
   "id": "af956320",
   "metadata": {},
   "outputs": [
    {
     "name": "stdout",
     "output_type": "stream",
     "text": [
      "[[0.31923041 0.89815875 0.64054822 0.1896131  0.95752158 0.02071928\n",
      "  0.45315306 0.75976505 0.49215722 0.02150386]\n",
      " [0.77108247 0.71566832 0.96937482 0.01888173 0.71659806 0.2412457\n",
      "  0.49150996 0.69763268 0.99135889 0.82932155]\n",
      " [0.03746039 0.20510398 0.76718637 0.74107584 0.27670159 0.65751826\n",
      "  0.80322791 0.13625292 0.49968501 0.43115407]\n",
      " [0.64981348 0.09949058 0.77291545 0.15685398 0.21163225 0.74965495\n",
      "  0.68208886 0.70816015 0.95233015 0.07995262]\n",
      " [0.42168299 0.3599512  0.31361301 0.74358378 0.5467292  0.76195242\n",
      "  0.4323817  0.64871486 0.47729777 0.97522514]\n",
      " [0.91740884 0.10951056 0.42058475 0.22834871 0.03211297 0.6236409\n",
      "  0.05893992 0.34785041 0.29613538 0.01656341]\n",
      " [0.93248194 0.52250784 0.92795626 0.38854605 0.64698738 0.08525732\n",
      "  0.92688308 0.86791538 0.25934988 0.53503587]\n",
      " [0.39369812 0.45765468 0.80273051 0.10860689 0.98770741 0.02056722\n",
      "  0.34228473 0.71776071 0.46082035 0.19722671]\n",
      " [0.35603007 0.42147084 0.48663112 0.16340537 0.2235248  0.12855594\n",
      "  0.57430172 0.43089549 0.96115125 0.21894433]\n",
      " [0.46875563 0.82920236 0.60212019 0.07422521 0.77265791 0.33042582\n",
      "  0.59918642 0.18976237 0.94668614 0.91328631]]\n"
     ]
    }
   ],
   "source": [
    "print(x)"
   ]
  },
  {
   "cell_type": "code",
   "execution_count": 38,
   "id": "19c40340",
   "metadata": {},
   "outputs": [],
   "source": [
    "xmin, xmax = x.min() , x.max()"
   ]
  },
  {
   "cell_type": "code",
   "execution_count": 39,
   "id": "86b40661",
   "metadata": {},
   "outputs": [
    {
     "name": "stdout",
     "output_type": "stream",
     "text": [
      "0.016563407788483087 0.9913588899856584\n"
     ]
    }
   ],
   "source": [
    "print(xmin, xmax)"
   ]
  },
  {
   "cell_type": "code",
   "execution_count": 40,
   "id": "d9280dfc",
   "metadata": {},
   "outputs": [],
   "source": [
    "Z = np.random.random(30) "
   ]
  },
  {
   "cell_type": "code",
   "execution_count": 41,
   "id": "f03dbf35",
   "metadata": {},
   "outputs": [],
   "source": [
    "m = Z.mean() "
   ]
  },
  {
   "cell_type": "code",
   "execution_count": 42,
   "id": "b7bf3361",
   "metadata": {},
   "outputs": [
    {
     "name": "stdout",
     "output_type": "stream",
     "text": [
      "0.6146138165070468\n"
     ]
    }
   ],
   "source": [
    "print(m)"
   ]
  },
  {
   "cell_type": "code",
   "execution_count": 43,
   "id": "4d27a950",
   "metadata": {},
   "outputs": [],
   "source": [
    "Z = np.ones((10,10)) "
   ]
  },
  {
   "cell_type": "code",
   "execution_count": 44,
   "id": "d4743d78",
   "metadata": {},
   "outputs": [],
   "source": [
    "Z[1:-1,1:-1] = 0 "
   ]
  },
  {
   "cell_type": "code",
   "execution_count": 45,
   "id": "89d99500",
   "metadata": {},
   "outputs": [
    {
     "name": "stdout",
     "output_type": "stream",
     "text": [
      "[[1. 1. 1. 1. 1. 1. 1. 1. 1. 1.]\n",
      " [1. 0. 0. 0. 0. 0. 0. 0. 0. 1.]\n",
      " [1. 0. 0. 0. 0. 0. 0. 0. 0. 1.]\n",
      " [1. 0. 0. 0. 0. 0. 0. 0. 0. 1.]\n",
      " [1. 0. 0. 0. 0. 0. 0. 0. 0. 1.]\n",
      " [1. 0. 0. 0. 0. 0. 0. 0. 0. 1.]\n",
      " [1. 0. 0. 0. 0. 0. 0. 0. 0. 1.]\n",
      " [1. 0. 0. 0. 0. 0. 0. 0. 0. 1.]\n",
      " [1. 0. 0. 0. 0. 0. 0. 0. 0. 1.]\n",
      " [1. 1. 1. 1. 1. 1. 1. 1. 1. 1.]]\n"
     ]
    }
   ],
   "source": [
    "print(Z)"
   ]
  },
  {
   "cell_type": "code",
   "execution_count": 46,
   "id": "78437920",
   "metadata": {},
   "outputs": [],
   "source": [
    "Z = np.ones((5,5)) "
   ]
  },
  {
   "cell_type": "code",
   "execution_count": 47,
   "id": "4986fe0f",
   "metadata": {},
   "outputs": [],
   "source": [
    "Z = np.pad(Z, pad_width=1, mode='constant', constant_values=0) "
   ]
  },
  {
   "cell_type": "code",
   "execution_count": 48,
   "id": "9d524477",
   "metadata": {},
   "outputs": [
    {
     "name": "stdout",
     "output_type": "stream",
     "text": [
      "[[0. 0. 0. 0. 0. 0. 0.]\n",
      " [0. 1. 1. 1. 1. 1. 0.]\n",
      " [0. 1. 1. 1. 1. 1. 0.]\n",
      " [0. 1. 1. 1. 1. 1. 0.]\n",
      " [0. 1. 1. 1. 1. 1. 0.]\n",
      " [0. 1. 1. 1. 1. 1. 0.]\n",
      " [0. 0. 0. 0. 0. 0. 0.]]\n"
     ]
    }
   ],
   "source": [
    "print(Z)"
   ]
  },
  {
   "cell_type": "code",
   "execution_count": 49,
   "id": "7b865416",
   "metadata": {},
   "outputs": [
    {
     "name": "stdout",
     "output_type": "stream",
     "text": [
      "nan\n"
     ]
    }
   ],
   "source": [
    "print(0 * np.nan) "
   ]
  },
  {
   "cell_type": "code",
   "execution_count": 50,
   "id": "cb6fc13a",
   "metadata": {},
   "outputs": [
    {
     "name": "stdout",
     "output_type": "stream",
     "text": [
      "False\n"
     ]
    }
   ],
   "source": [
    "print(np.nan == np.nan) "
   ]
  },
  {
   "cell_type": "code",
   "execution_count": 51,
   "id": "c956add4",
   "metadata": {},
   "outputs": [
    {
     "name": "stdout",
     "output_type": "stream",
     "text": [
      "False\n"
     ]
    }
   ],
   "source": [
    "print(np.inf > np.nan) "
   ]
  },
  {
   "cell_type": "code",
   "execution_count": 52,
   "id": "a78e4778",
   "metadata": {},
   "outputs": [
    {
     "name": "stdout",
     "output_type": "stream",
     "text": [
      "nan\n"
     ]
    }
   ],
   "source": [
    "print(np.nan - np.nan) "
   ]
  },
  {
   "cell_type": "code",
   "execution_count": 53,
   "id": "1e00d85f",
   "metadata": {},
   "outputs": [
    {
     "name": "stdout",
     "output_type": "stream",
     "text": [
      "False\n"
     ]
    }
   ],
   "source": [
    "print(0.3 == 3 * 0.1)"
   ]
  },
  {
   "cell_type": "code",
   "execution_count": 54,
   "id": "0df22245",
   "metadata": {},
   "outputs": [],
   "source": [
    "Z = np.diag(1+np.arange(4),k=-1) "
   ]
  },
  {
   "cell_type": "code",
   "execution_count": 55,
   "id": "49471cb9",
   "metadata": {},
   "outputs": [
    {
     "name": "stdout",
     "output_type": "stream",
     "text": [
      "[[0 0 0 0 0]\n",
      " [1 0 0 0 0]\n",
      " [0 2 0 0 0]\n",
      " [0 0 3 0 0]\n",
      " [0 0 0 4 0]]\n"
     ]
    }
   ],
   "source": [
    "print(Z)"
   ]
  },
  {
   "cell_type": "code",
   "execution_count": 56,
   "id": "02a9b708",
   "metadata": {},
   "outputs": [],
   "source": [
    "Z = np.zeros((8,8),dtype=int) "
   ]
  },
  {
   "cell_type": "code",
   "execution_count": 57,
   "id": "141ecd01",
   "metadata": {},
   "outputs": [],
   "source": [
    "Z[1::2,::2] = 1 "
   ]
  },
  {
   "cell_type": "code",
   "execution_count": 58,
   "id": "4b5c832b",
   "metadata": {},
   "outputs": [],
   "source": [
    "Z[::2,1::2] = 1 "
   ]
  },
  {
   "cell_type": "code",
   "execution_count": 59,
   "id": "ec4b87a5",
   "metadata": {},
   "outputs": [
    {
     "name": "stdout",
     "output_type": "stream",
     "text": [
      "[[0 1 0 1 0 1 0 1]\n",
      " [1 0 1 0 1 0 1 0]\n",
      " [0 1 0 1 0 1 0 1]\n",
      " [1 0 1 0 1 0 1 0]\n",
      " [0 1 0 1 0 1 0 1]\n",
      " [1 0 1 0 1 0 1 0]\n",
      " [0 1 0 1 0 1 0 1]\n",
      " [1 0 1 0 1 0 1 0]]\n"
     ]
    }
   ],
   "source": [
    "print(Z)"
   ]
  },
  {
   "cell_type": "code",
   "execution_count": 60,
   "id": "c3b565f4",
   "metadata": {},
   "outputs": [
    {
     "name": "stdout",
     "output_type": "stream",
     "text": [
      "(1, 5, 4)\n"
     ]
    }
   ],
   "source": [
    "print(np.unravel_index(100,(6,7,8)))"
   ]
  },
  {
   "cell_type": "code",
   "execution_count": 61,
   "id": "c7d823f4",
   "metadata": {},
   "outputs": [],
   "source": [
    "Z = np.tile( np.array([[0,1],[1,0]]), (4,4)) "
   ]
  },
  {
   "cell_type": "code",
   "execution_count": 62,
   "id": "3db5bcf8",
   "metadata": {},
   "outputs": [
    {
     "name": "stdout",
     "output_type": "stream",
     "text": [
      "[[0 1 0 1 0 1 0 1]\n",
      " [1 0 1 0 1 0 1 0]\n",
      " [0 1 0 1 0 1 0 1]\n",
      " [1 0 1 0 1 0 1 0]\n",
      " [0 1 0 1 0 1 0 1]\n",
      " [1 0 1 0 1 0 1 0]\n",
      " [0 1 0 1 0 1 0 1]\n",
      " [1 0 1 0 1 0 1 0]]\n"
     ]
    }
   ],
   "source": [
    "print(Z)"
   ]
  },
  {
   "cell_type": "code",
   "execution_count": 63,
   "id": "0f3097ae",
   "metadata": {},
   "outputs": [],
   "source": [
    "Z = np.random.random((5,5))"
   ]
  },
  {
   "cell_type": "code",
   "execution_count": 64,
   "id": "facb24a5",
   "metadata": {},
   "outputs": [],
   "source": [
    "Zmax,Zmin = Z.max(), Z.min()"
   ]
  },
  {
   "cell_type": "code",
   "execution_count": 65,
   "id": "2eebbe0c",
   "metadata": {},
   "outputs": [],
   "source": [
    "Z = (Z - Zmin)/(Zmax - Zmin)"
   ]
  },
  {
   "cell_type": "code",
   "execution_count": 67,
   "id": "168d2305",
   "metadata": {},
   "outputs": [
    {
     "name": "stdout",
     "output_type": "stream",
     "text": [
      "[[0.2380285  0.52064232 0.94649022 0.42643442 0.68665824]\n",
      " [0.94390414 0.19191283 0.83711046 0.16120703 0.6915483 ]\n",
      " [0.03554399 0.         0.26146056 1.         0.59585415]\n",
      " [0.84771249 0.63223288 0.67285847 0.24268365 0.14394323]\n",
      " [0.708755   0.45354658 0.86587697 0.19364473 0.33343237]]\n"
     ]
    }
   ],
   "source": [
    "print(Z)"
   ]
  },
  {
   "cell_type": "code",
   "execution_count": 68,
   "id": "4f516a12",
   "metadata": {},
   "outputs": [
    {
     "ename": "SyntaxError",
     "evalue": "invalid syntax (849615428.py, line 1)",
     "output_type": "error",
     "traceback": [
      "\u001b[0;36m  Cell \u001b[0;32mIn [68], line 1\u001b[0;36m\u001b[0m\n\u001b[0;31m    return to do 23\u001b[0m\n\u001b[0m              ^\u001b[0m\n\u001b[0;31mSyntaxError\u001b[0m\u001b[0;31m:\u001b[0m invalid syntax\n"
     ]
    }
   ],
   "source": [
    "return to do 23"
   ]
  },
  {
   "cell_type": "code",
   "execution_count": 69,
   "id": "79b5ec38",
   "metadata": {},
   "outputs": [],
   "source": [
    "x = np.random.random((5,3))"
   ]
  },
  {
   "cell_type": "code",
   "execution_count": 70,
   "id": "25e1d51a",
   "metadata": {},
   "outputs": [
    {
     "name": "stdout",
     "output_type": "stream",
     "text": [
      "[[0.21032928 0.33184101 0.3965066 ]\n",
      " [0.59482231 0.82516331 0.84244399]\n",
      " [0.82232701 0.80200637 0.72146121]\n",
      " [0.58790782 0.42788662 0.38781987]\n",
      " [0.93270022 0.71245374 0.96304341]]\n"
     ]
    }
   ],
   "source": [
    "print(x)"
   ]
  },
  {
   "cell_type": "code",
   "execution_count": 71,
   "id": "6ee6095b",
   "metadata": {},
   "outputs": [],
   "source": [
    "y = np.random.random((3,2))"
   ]
  },
  {
   "cell_type": "code",
   "execution_count": 72,
   "id": "4de95785",
   "metadata": {},
   "outputs": [
    {
     "name": "stdout",
     "output_type": "stream",
     "text": [
      "[[0.94104123 0.01986222]\n",
      " [0.2504066  0.40266979]\n",
      " [0.29787895 0.62433531]]\n"
     ]
    }
   ],
   "source": [
    "print(y)"
   ]
  },
  {
   "cell_type": "code",
   "execution_count": 73,
   "id": "cb99b98b",
   "metadata": {},
   "outputs": [],
   "source": [
    "z = np.dot(x, y)"
   ]
  },
  {
   "cell_type": "code",
   "execution_count": 74,
   "id": "b78fb031",
   "metadata": {},
   "outputs": [
    {
     "name": "stdout",
     "output_type": "stream",
     "text": [
      "[[0.39913467 0.38535302]\n",
      " [1.01732499 0.87005035]\n",
      " [1.18957942 0.78971068]\n",
      " [0.77591451 0.42610381]\n",
      " [1.34298284 0.90667109]]\n"
     ]
    }
   ],
   "source": [
    "print(z)\n"
   ]
  },
  {
   "cell_type": "code",
   "execution_count": 75,
   "id": "ca3450f3",
   "metadata": {},
   "outputs": [],
   "source": [
    "Z = np.arange(11)"
   ]
  },
  {
   "cell_type": "code",
   "execution_count": 76,
   "id": "df341a56",
   "metadata": {},
   "outputs": [],
   "source": [
    "Z[(3 < Z) & (Z <= 8)] *= -1"
   ]
  },
  {
   "cell_type": "code",
   "execution_count": 77,
   "id": "d2fc560d",
   "metadata": {},
   "outputs": [
    {
     "name": "stdout",
     "output_type": "stream",
     "text": [
      "[ 0  1  2  3 -4 -5 -6 -7 -8  9 10]\n"
     ]
    }
   ],
   "source": [
    "print(Z)"
   ]
  },
  {
   "cell_type": "code",
   "execution_count": 78,
   "id": "370c572d",
   "metadata": {},
   "outputs": [
    {
     "name": "stdout",
     "output_type": "stream",
     "text": [
      "9\n"
     ]
    }
   ],
   "source": [
    "print(sum(range(5),-1))"
   ]
  },
  {
   "cell_type": "code",
   "execution_count": 79,
   "id": "85b712d9",
   "metadata": {},
   "outputs": [],
   "source": [
    "from numpy import *"
   ]
  },
  {
   "cell_type": "code",
   "execution_count": 80,
   "id": "ea7dc9ab",
   "metadata": {},
   "outputs": [
    {
     "name": "stdout",
     "output_type": "stream",
     "text": [
      "10\n"
     ]
    }
   ],
   "source": [
    "print(sum(range(5),-1))"
   ]
  },
  {
   "cell_type": "code",
   "execution_count": 81,
   "id": "339eecea",
   "metadata": {},
   "outputs": [
    {
     "ename": "ValueError",
     "evalue": "Integers to negative integer powers are not allowed.",
     "output_type": "error",
     "traceback": [
      "\u001b[0;31m---------------------------------------------------------------------------\u001b[0m",
      "\u001b[0;31mValueError\u001b[0m                                Traceback (most recent call last)",
      "Cell \u001b[0;32mIn [81], line 1\u001b[0m\n\u001b[0;32m----> 1\u001b[0m \u001b[43mZ\u001b[49m\u001b[38;5;241;43m*\u001b[39;49m\u001b[38;5;241;43m*\u001b[39;49m\u001b[43mZ\u001b[49m\n",
      "\u001b[0;31mValueError\u001b[0m: Integers to negative integer powers are not allowed."
     ]
    }
   ],
   "source": [
    "Z**Z"
   ]
  },
  {
   "cell_type": "code",
   "execution_count": 82,
   "id": "0369228c",
   "metadata": {},
   "outputs": [
    {
     "data": {
      "text/plain": [
       "array([False, False, False, False,  True,  True,  True,  True,  True,\n",
       "       False, False])"
      ]
     },
     "execution_count": 82,
     "metadata": {},
     "output_type": "execute_result"
    }
   ],
   "source": [
    "Z <- Z"
   ]
  },
  {
   "cell_type": "code",
   "execution_count": 83,
   "id": "0cdf473a",
   "metadata": {},
   "outputs": [
    {
     "data": {
      "text/plain": [
       "array([ 0. +0.j,  0. +1.j,  0. +2.j,  0. +3.j, -0. -4.j, -0. -5.j,\n",
       "       -0. -6.j, -0. -7.j, -0. -8.j,  0. +9.j,  0.+10.j])"
      ]
     },
     "execution_count": 83,
     "metadata": {},
     "output_type": "execute_result"
    }
   ],
   "source": [
    "1j*Z"
   ]
  },
  {
   "cell_type": "code",
   "execution_count": 84,
   "id": "35f29f78",
   "metadata": {},
   "outputs": [
    {
     "name": "stderr",
     "output_type": "stream",
     "text": [
      "/var/folders/kp/rvknddyx7xd6z400rct2634h0000gn/T/ipykernel_41555/873513115.py:1: RuntimeWarning: invalid value encountered in divide\n",
      "  np.array(0) / np.array(0)\n"
     ]
    },
    {
     "data": {
      "text/plain": [
       "nan"
      ]
     },
     "execution_count": 84,
     "metadata": {},
     "output_type": "execute_result"
    }
   ],
   "source": [
    "np.array(0) / np.array(0)"
   ]
  },
  {
   "cell_type": "code",
   "execution_count": 85,
   "id": "fd4b380f",
   "metadata": {},
   "outputs": [
    {
     "name": "stderr",
     "output_type": "stream",
     "text": [
      "/var/folders/kp/rvknddyx7xd6z400rct2634h0000gn/T/ipykernel_41555/2018018105.py:1: RuntimeWarning: divide by zero encountered in floor_divide\n",
      "  np.array(0) // np.array(0)\n"
     ]
    },
    {
     "data": {
      "text/plain": [
       "0"
      ]
     },
     "execution_count": 85,
     "metadata": {},
     "output_type": "execute_result"
    }
   ],
   "source": [
    "np.array(0) // np.array(0)"
   ]
  },
  {
   "cell_type": "code",
   "execution_count": 89,
   "id": "89f75de3",
   "metadata": {},
   "outputs": [],
   "source": [
    "array = np.array([1.,2.,3.,4.,5.])"
   ]
  },
  {
   "cell_type": "code",
   "execution_count": 91,
   "id": "8609da44",
   "metadata": {},
   "outputs": [],
   "source": [
    "res = np.round(array)"
   ]
  },
  {
   "cell_type": "code",
   "execution_count": 92,
   "id": "bc44544d",
   "metadata": {},
   "outputs": [
    {
     "name": "stdout",
     "output_type": "stream",
     "text": [
      "[1. 2. 3. 4. 5.]\n"
     ]
    }
   ],
   "source": [
    "print(res)"
   ]
  },
  {
   "cell_type": "markdown",
   "id": "1f7dcc68",
   "metadata": {},
   "source": [
    "not sure about this one above"
   ]
  },
  {
   "cell_type": "code",
   "execution_count": 93,
   "id": "9a54b291",
   "metadata": {},
   "outputs": [],
   "source": [
    "a = np.array([2, 4, 7, 1, 4])"
   ]
  },
  {
   "cell_type": "code",
   "execution_count": 94,
   "id": "d31519d9",
   "metadata": {},
   "outputs": [],
   "source": [
    "b = np.array([7, 2, 9, 0, 5])"
   ]
  },
  {
   "cell_type": "code",
   "execution_count": 95,
   "id": "a7f48cc9",
   "metadata": {},
   "outputs": [
    {
     "name": "stdout",
     "output_type": "stream",
     "text": [
      "Original arrays [2 4 7 1 4]   [7 2 9 0 5]\n"
     ]
    }
   ],
   "source": [
    "print(\"Original arrays\", a, ' ', b)"
   ]
  },
  {
   "cell_type": "code",
   "execution_count": 96,
   "id": "1c39f903",
   "metadata": {},
   "outputs": [],
   "source": [
    "c = np.intersect1d(a, b)"
   ]
  },
  {
   "cell_type": "code",
   "execution_count": 97,
   "id": "f7b9d46a",
   "metadata": {},
   "outputs": [
    {
     "name": "stdout",
     "output_type": "stream",
     "text": [
      "Common values [2 7]\n"
     ]
    }
   ],
   "source": [
    "print(\"Common values\", c)"
   ]
  },
  {
   "cell_type": "code",
   "execution_count": 100,
   "id": "4e54564d",
   "metadata": {},
   "outputs": [
    {
     "data": {
      "text/plain": [
       "{'divide': 'warn', 'over': 'warn', 'under': 'ignore', 'invalid': 'warn'}"
      ]
     },
     "execution_count": 100,
     "metadata": {},
     "output_type": "execute_result"
    }
   ],
   "source": [
    "np.seterr(all='ignore')"
   ]
  },
  {
   "cell_type": "code",
   "execution_count": 101,
   "id": "22abf8b8",
   "metadata": {},
   "outputs": [
    {
     "data": {
      "text/plain": [
       "False"
      ]
     },
     "execution_count": 101,
     "metadata": {},
     "output_type": "execute_result"
    }
   ],
   "source": [
    "np.sqrt(-1) == np.emath.sqrt(-1)"
   ]
  },
  {
   "cell_type": "code",
   "execution_count": 102,
   "id": "2f40cbff",
   "metadata": {},
   "outputs": [],
   "source": [
    "today = np.datetime64('today', 'D')"
   ]
  },
  {
   "cell_type": "code",
   "execution_count": 103,
   "id": "aeb1909c",
   "metadata": {},
   "outputs": [],
   "source": [
    "yesterday = np.datetime64('today', 'D') - np.timedelta64(1, 'D')"
   ]
  },
  {
   "cell_type": "code",
   "execution_count": 104,
   "id": "731ae352",
   "metadata": {},
   "outputs": [],
   "source": [
    "tomorrow =np.datetime64('today', 'D') + np.timedelta64(1, 'D')"
   ]
  },
  {
   "cell_type": "code",
   "execution_count": 105,
   "id": "1684dd1e",
   "metadata": {},
   "outputs": [
    {
     "name": "stdout",
     "output_type": "stream",
     "text": [
      "2022-11-20\n"
     ]
    }
   ],
   "source": [
    "print(today)"
   ]
  },
  {
   "cell_type": "code",
   "execution_count": 106,
   "id": "2ecd38a7",
   "metadata": {},
   "outputs": [
    {
     "name": "stdout",
     "output_type": "stream",
     "text": [
      "2022-11-19\n"
     ]
    }
   ],
   "source": [
    "print(yesterday)"
   ]
  },
  {
   "cell_type": "code",
   "execution_count": 107,
   "id": "33df78bd",
   "metadata": {},
   "outputs": [
    {
     "name": "stdout",
     "output_type": "stream",
     "text": [
      "2022-11-21\n"
     ]
    }
   ],
   "source": [
    "print(tomorrow)"
   ]
  },
  {
   "cell_type": "code",
   "execution_count": 109,
   "id": "08dcc6c6",
   "metadata": {},
   "outputs": [],
   "source": [
    "Z = np.arange('2016-08', '2016-09', dtype='datetime64[D]')"
   ]
  },
  {
   "cell_type": "code",
   "execution_count": 110,
   "id": "0b09c2de",
   "metadata": {},
   "outputs": [
    {
     "name": "stdout",
     "output_type": "stream",
     "text": [
      "['2016-08-01' '2016-08-02' '2016-08-03' '2016-08-04' '2016-08-05'\n",
      " '2016-08-06' '2016-08-07' '2016-08-08' '2016-08-09' '2016-08-10'\n",
      " '2016-08-11' '2016-08-12' '2016-08-13' '2016-08-14' '2016-08-15'\n",
      " '2016-08-16' '2016-08-17' '2016-08-18' '2016-08-19' '2016-08-20'\n",
      " '2016-08-21' '2016-08-22' '2016-08-23' '2016-08-24' '2016-08-25'\n",
      " '2016-08-26' '2016-08-27' '2016-08-28' '2016-08-29' '2016-08-30'\n",
      " '2016-08-31']\n"
     ]
    }
   ],
   "source": [
    "print(Z)"
   ]
  },
  {
   "cell_type": "code",
   "execution_count": 111,
   "id": "fa3f5123",
   "metadata": {},
   "outputs": [],
   "source": [
    "a = np.arange(9).reshape(3,3)"
   ]
  },
  {
   "cell_type": "code",
   "execution_count": 112,
   "id": "b669281f",
   "metadata": {},
   "outputs": [],
   "source": [
    "b = np.transpose(a)"
   ]
  },
  {
   "cell_type": "code",
   "execution_count": 114,
   "id": "a1b646aa",
   "metadata": {},
   "outputs": [
    {
     "data": {
      "text/plain": [
       "array([[0, 1, 2],\n",
       "       [3, 4, 5],\n",
       "       [6, 7, 8]])"
      ]
     },
     "execution_count": 114,
     "metadata": {},
     "output_type": "execute_result"
    }
   ],
   "source": [
    "a"
   ]
  },
  {
   "cell_type": "code",
   "execution_count": 115,
   "id": "e2972772",
   "metadata": {},
   "outputs": [
    {
     "data": {
      "text/plain": [
       "array([[0, 3, 6],\n",
       "       [1, 4, 7],\n",
       "       [2, 5, 8]])"
      ]
     },
     "execution_count": 115,
     "metadata": {},
     "output_type": "execute_result"
    }
   ],
   "source": [
    "b"
   ]
  },
  {
   "cell_type": "code",
   "execution_count": 116,
   "id": "714a8435",
   "metadata": {},
   "outputs": [],
   "source": [
    "b[0,1] = 100"
   ]
  },
  {
   "cell_type": "code",
   "execution_count": 117,
   "id": "b31ea64b",
   "metadata": {},
   "outputs": [
    {
     "data": {
      "text/plain": [
       "array([[  0, 100,   6],\n",
       "       [  1,   4,   7],\n",
       "       [  2,   5,   8]])"
      ]
     },
     "execution_count": 117,
     "metadata": {},
     "output_type": "execute_result"
    }
   ],
   "source": [
    "b"
   ]
  },
  {
   "cell_type": "code",
   "execution_count": 118,
   "id": "10c4cc6d",
   "metadata": {},
   "outputs": [
    {
     "data": {
      "text/plain": [
       "array([[  0,   1,   2],\n",
       "       [100,   4,   5],\n",
       "       [  6,   7,   8]])"
      ]
     },
     "execution_count": 118,
     "metadata": {},
     "output_type": "execute_result"
    }
   ],
   "source": [
    "a"
   ]
  },
  {
   "cell_type": "markdown",
   "id": "404c4c5c",
   "metadata": {},
   "source": [
    "missing item 36"
   ]
  },
  {
   "cell_type": "code",
   "execution_count": 125,
   "id": "d4cda1bf",
   "metadata": {},
   "outputs": [],
   "source": [
    "x = np.zeros((5,5))"
   ]
  },
  {
   "cell_type": "code",
   "execution_count": 126,
   "id": "f9c61b6f",
   "metadata": {},
   "outputs": [
    {
     "data": {
      "text/plain": [
       "array([[0., 0., 0., 0., 0.],\n",
       "       [0., 0., 0., 0., 0.],\n",
       "       [0., 0., 0., 0., 0.],\n",
       "       [0., 0., 0., 0., 0.],\n",
       "       [0., 0., 0., 0., 0.]])"
      ]
     },
     "execution_count": 126,
     "metadata": {},
     "output_type": "execute_result"
    }
   ],
   "source": [
    "x"
   ]
  },
  {
   "cell_type": "code",
   "execution_count": 127,
   "id": "b5361b15",
   "metadata": {},
   "outputs": [],
   "source": [
    "x += np.arange(5)"
   ]
  },
  {
   "cell_type": "code",
   "execution_count": 128,
   "id": "7f09ee81",
   "metadata": {},
   "outputs": [
    {
     "data": {
      "text/plain": [
       "array([[0., 1., 2., 3., 4.],\n",
       "       [0., 1., 2., 3., 4.],\n",
       "       [0., 1., 2., 3., 4.],\n",
       "       [0., 1., 2., 3., 4.],\n",
       "       [0., 1., 2., 3., 4.]])"
      ]
     },
     "execution_count": 128,
     "metadata": {},
     "output_type": "execute_result"
    }
   ],
   "source": [
    "x"
   ]
  },
  {
   "cell_type": "code",
   "execution_count": 129,
   "id": "628076ca",
   "metadata": {},
   "outputs": [],
   "source": [
    "x = np.linspace(0,1,12,endpoint=True)[1:-1]"
   ]
  },
  {
   "cell_type": "code",
   "execution_count": 130,
   "id": "355f565f",
   "metadata": {},
   "outputs": [
    {
     "data": {
      "text/plain": [
       "array([0.09090909, 0.18181818, 0.27272727, 0.36363636, 0.45454545,\n",
       "       0.54545455, 0.63636364, 0.72727273, 0.81818182, 0.90909091])"
      ]
     },
     "execution_count": 130,
     "metadata": {},
     "output_type": "execute_result"
    }
   ],
   "source": [
    "x"
   ]
  },
  {
   "cell_type": "code",
   "execution_count": 131,
   "id": "634c4f2a",
   "metadata": {},
   "outputs": [],
   "source": [
    "x = np.random.random(10)"
   ]
  },
  {
   "cell_type": "code",
   "execution_count": 132,
   "id": "b596b8e3",
   "metadata": {},
   "outputs": [
    {
     "data": {
      "text/plain": [
       "array([0.30349135, 0.05412096, 0.5863962 , 0.39717233, 0.1146399 ,\n",
       "       0.4534077 , 0.77192601, 0.47562833, 0.58764257, 0.26964004])"
      ]
     },
     "execution_count": 132,
     "metadata": {},
     "output_type": "execute_result"
    }
   ],
   "source": [
    "x"
   ]
  },
  {
   "cell_type": "code",
   "execution_count": 134,
   "id": "1f1e067a",
   "metadata": {},
   "outputs": [],
   "source": [
    "x.sort()"
   ]
  },
  {
   "cell_type": "code",
   "execution_count": 135,
   "id": "9d4800fb",
   "metadata": {},
   "outputs": [
    {
     "data": {
      "text/plain": [
       "array([0.05412096, 0.1146399 , 0.26964004, 0.30349135, 0.39717233,\n",
       "       0.4534077 , 0.47562833, 0.5863962 , 0.58764257, 0.77192601])"
      ]
     },
     "execution_count": 135,
     "metadata": {},
     "output_type": "execute_result"
    }
   ],
   "source": [
    "x"
   ]
  },
  {
   "cell_type": "code",
   "execution_count": null,
   "id": "ed5b3ac5",
   "metadata": {},
   "outputs": [],
   "source": []
  }
 ],
 "metadata": {
  "kernelspec": {
   "display_name": "Python 3.11.0 64-bit",
   "language": "python",
   "name": "python3"
  },
  "language_info": {
   "codemirror_mode": {
    "name": "ipython",
    "version": 3
   },
   "file_extension": ".py",
   "mimetype": "text/x-python",
   "name": "python",
   "nbconvert_exporter": "python",
   "pygments_lexer": "ipython3",
   "version": "3.11.0"
  },
  "vscode": {
   "interpreter": {
    "hash": "aee8b7b246df8f9039afb4144a1f6fd8d2ca17a180786b69acc140d282b71a49"
   }
  }
 },
 "nbformat": 4,
 "nbformat_minor": 5
}
